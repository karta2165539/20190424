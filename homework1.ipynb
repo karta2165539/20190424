{
 "cells": [
  {
   "cell_type": "code",
   "execution_count": 20,
   "metadata": {},
   "outputs": [
    {
     "name": "stdout",
     "output_type": "stream",
     "text": [
      "輸入成績\n",
      "未知\n"
     ]
    }
   ],
   "source": [
    "try:\n",
    "    score=eval(input(\"輸入成績\"))\n",
    "    if score>=80 and score<=100:\n",
    "        print(\"優等\")\n",
    "    elif score>=60 and score<80:\n",
    "        print(\"及格\")\n",
    "    elif score<60 and score>=0:\n",
    "        print(\"不及格\")\n",
    "    else:\n",
    "        print(\"未知\")\n",
    "except:\n",
    "    print(\"未知\")"
   ]
  }
 ],
 "metadata": {
  "kernelspec": {
   "display_name": "Python 3",
   "language": "python",
   "name": "python3"
  },
  "language_info": {
   "codemirror_mode": {
    "name": "ipython",
    "version": 3
   },
   "file_extension": ".py",
   "mimetype": "text/x-python",
   "name": "python",
   "nbconvert_exporter": "python",
   "pygments_lexer": "ipython3",
   "version": "3.6.1"
  }
 },
 "nbformat": 4,
 "nbformat_minor": 2
}

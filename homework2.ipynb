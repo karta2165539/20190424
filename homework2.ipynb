{
 "cells": [
  {
   "cell_type": "code",
   "execution_count": 5,
   "metadata": {},
   "outputs": [
    {
     "name": "stdout",
     "output_type": "stream",
     "text": [
      "猜數字(輸入q/Q結束)8\n",
      "恭喜你，猜到了!\n"
     ]
    }
   ],
   "source": [
    "while True:\n",
    "    number=input(\"猜數字(輸入q/Q結束)\")\n",
    "    try:\n",
    "        if number==\"Q\"or number==\"q\":\n",
    "            print(\"離開\")\n",
    "            break \n",
    "        elif eval(number)==8:\n",
    "            print(\"恭喜你，猜到了!\")\n",
    "            break   \n",
    "        else:\n",
    "            print(\"猜不到，哈哈哈!\")    \n",
    "    except:\n",
    "        print(\"請輸入數字!!\")\n"
   ]
  },
  {
   "cell_type": "code",
   "execution_count": null,
   "metadata": {
    "collapsed": true
   },
   "outputs": [],
   "source": []
  },
  {
   "cell_type": "code",
   "execution_count": null,
   "metadata": {
    "collapsed": true
   },
   "outputs": [],
   "source": []
  }
 ],
 "metadata": {
  "kernelspec": {
   "display_name": "Python 3",
   "language": "python",
   "name": "python3"
  },
  "language_info": {
   "codemirror_mode": {
    "name": "ipython",
    "version": 3
   },
   "file_extension": ".py",
   "mimetype": "text/x-python",
   "name": "python",
   "nbconvert_exporter": "python",
   "pygments_lexer": "ipython3",
   "version": "3.6.1"
  }
 },
 "nbformat": 4,
 "nbformat_minor": 2
}
